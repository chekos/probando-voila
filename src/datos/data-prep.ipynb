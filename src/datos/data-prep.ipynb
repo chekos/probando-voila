{
 "cells": [
  {
   "cell_type": "code",
   "execution_count": null,
   "metadata": {},
   "outputs": [],
   "source": []
  },
  {
   "cell_type": "code",
   "execution_count": 1,
   "metadata": {},
   "outputs": [
    {
     "data": {
      "text/plain": [
       "'21-Jun-19'"
      ]
     },
     "execution_count": 1,
     "metadata": {},
     "output_type": "execute_result"
    }
   ],
   "source": [
    "import pandas as pd\n",
    "import geopandas as gpd\n",
    "from zipfile import ZipFile\n",
    "from pathlib import Path\n",
    "from herramientas import arbol\n",
    "from datetime import datetime as dt\n",
    "%matplotlib inline\n",
    "\n",
    "hoy = dt.today().strftime(\"%d-%b-%y\")\n",
    "\n",
    "hoy"
   ]
  },
  {
   "cell_type": "code",
   "execution_count": 2,
   "metadata": {},
   "outputs": [],
   "source": [
    "DATOS_BRUTOS = Path(\"../datos/brutos/\")\n",
    "DATOS_INTERINOS = Path(\"../datos/interinos/\")\n",
    "DATOS_PROCESADOS = Path(\"../datos/procesados/\")\n",
    "DATOS_EXTERNOS = Path(\"../datos/externos/\")"
   ]
  },
  {
   "cell_type": "code",
   "execution_count": 3,
   "metadata": {},
   "outputs": [
    {
     "name": "stdout",
     "output_type": "stream",
     "text": [
      "+ ..\\datos\\brutos\n",
      "    + 889463674658_s\n",
      "        + 01_aguascalientes.zip\n",
      "        + 02_bajacalifornia.zip\n",
      "        + 03_bajacaliforniasur.zip\n",
      "        + 04_campeche.zip\n",
      "        + 05_coahuiladezaragoza.zip\n",
      "        + 06_colima.zip\n",
      "        + 07_chiapas.zip\n",
      "        + 08_chihuahua.zip\n",
      "        + 09_ciudaddemexico.zip\n",
      "        + 10_durango.zip\n",
      "        + 11_guanajuato.zip\n",
      "        + 12_guerrero.zip\n",
      "        + 13_hidalgo.zip\n",
      "        + 14_jalisco.zip\n",
      "        + 15_mexico.zip\n",
      "        + 16_michoacandeocampo.zip\n",
      "        + 17_morelos.zip\n",
      "        + 18_nayarit.zip\n",
      "        + 19_nuevoleon.zip\n",
      "        + 20_oaxaca.zip\n",
      "        + 21_puebla.zip\n",
      "        + 22_queretaro.zip\n",
      "        + 23_quintanaroo.zip\n",
      "        + 24_sanluispotosi.zip\n",
      "        + 25_sinaloa.zip\n",
      "        + 26_sonora.zip\n",
      "        + 27_tabasco.zip\n",
      "        + 28_tamaulipas.zip\n",
      "        + 29_tlaxcala.zip\n",
      "        + 30_veracruzignaciodelallave.zip\n",
      "        + 31_yucatan.zip\n",
      "        + 32_zacatecas.zip\n",
      "        + Marco_Geoestadistico_Integrado_diciembre_2018.zip\n",
      "    + Base de datos de pobreza AGEB segun entidad federativa 2015.zip\n"
     ]
    }
   ],
   "source": [
    "arbol(DATOS_BRUTOS)"
   ]
  },
  {
   "cell_type": "code",
   "execution_count": 19,
   "metadata": {},
   "outputs": [],
   "source": [
    "states_files = [file for file in DATOS_BRUTOS.joinpath(\"889463674658_s\").glob(\"*.zip\") if file.stem.startswith(\"0\") or file.stem.startswith(\"1\") or file.stem.startswith(\"2\") or file.stem.startswith(\"3\")]"
   ]
  },
  {
   "cell_type": "code",
   "execution_count": 24,
   "metadata": {},
   "outputs": [
    {
     "name": "stdout",
     "output_type": "stream",
     "text": [
      "01_aguascalientes\n",
      "02_bajacalifornia\n",
      "03_bajacaliforniasur\n",
      "04_campeche\n",
      "05_coahuiladezaragoza\n",
      "06_colima\n",
      "07_chiapas\n",
      "08_chihuahua\n",
      "09_ciudaddemexico\n",
      "10_durango\n",
      "11_guanajuato\n",
      "12_guerrero\n",
      "13_hidalgo\n",
      "14_jalisco\n",
      "15_mexico\n",
      "16_michoacandeocampo\n",
      "17_morelos\n",
      "18_nayarit\n",
      "19_nuevoleon\n",
      "20_oaxaca\n",
      "21_puebla\n",
      "22_queretaro\n",
      "23_quintanaroo\n",
      "24_sanluispotosi\n",
      "25_sinaloa\n",
      "26_sonora\n",
      "27_tabasco\n",
      "28_tamaulipas\n",
      "29_tlaxcala\n",
      "30_veracruzignaciodelallave\n",
      "31_yucatan\n",
      "32_zacatecas\n"
     ]
    }
   ],
   "source": [
    "for state in states_files:\n",
    "    print(state.stem)\n",
    "    ZipFile(state).extractall(DATOS_INTERINOS / 'states')"
   ]
  },
  {
   "cell_type": "code",
   "execution_count": 25,
   "metadata": {},
   "outputs": [],
   "source": [
    "states_paths = DATOS_INTERINOS.joinpath(\"states\")"
   ]
  },
  {
   "cell_type": "code",
   "execution_count": 33,
   "metadata": {},
   "outputs": [],
   "source": [
    "ageb_urbanas = [i for i in states_paths.joinpath(\"conjunto de datos\").glob(\"*a.*\") if 'si' not in i.stem]"
   ]
  },
  {
   "cell_type": "code",
   "execution_count": 34,
   "metadata": {},
   "outputs": [],
   "source": [
    "ageb_rurales = [i for i in states_paths.joinpath(\"conjunto de datos\").glob(\"*ar.*\")]"
   ]
  },
  {
   "cell_type": "code",
   "execution_count": 36,
   "metadata": {},
   "outputs": [],
   "source": [
    "_ = ageb_urbanas[0]"
   ]
  },
  {
   "cell_type": "code",
   "execution_count": 37,
   "metadata": {},
   "outputs": [],
   "source": [
    "DATOS_INTERINOS.joinpath(\"AGEBS_/\").mkdir()"
   ]
  },
  {
   "cell_type": "code",
   "execution_count": 38,
   "metadata": {},
   "outputs": [],
   "source": [
    "AGEBS = DATOS_INTERINOS.joinpath(\"AGEBS_/\")"
   ]
  },
  {
   "cell_type": "code",
   "execution_count": 39,
   "metadata": {},
   "outputs": [
    {
     "data": {
      "text/plain": [
       "WindowsPath('../datos/interinos/states/conjunto de datos/01a.CPG')"
      ]
     },
     "execution_count": 39,
     "metadata": {},
     "output_type": "execute_result"
    }
   ],
   "source": [
    "_"
   ]
  },
  {
   "cell_type": "code",
   "execution_count": 43,
   "metadata": {},
   "outputs": [
    {
     "ename": "AttributeError",
     "evalue": "'str' object has no attribute 'name'",
     "output_type": "error",
     "traceback": [
      "\u001b[1;31m---------------------------------------------------------------------------\u001b[0m",
      "\u001b[1;31mAttributeError\u001b[0m                            Traceback (most recent call last)",
      "\u001b[1;32m<ipython-input-43-f4fef8035404>\u001b[0m in \u001b[0;36m<module>\u001b[1;34m\u001b[0m\n\u001b[1;32m----> 1\u001b[1;33m \u001b[0m_\u001b[0m\u001b[1;33m.\u001b[0m\u001b[0mreplace\u001b[0m\u001b[1;33m(\u001b[0m\u001b[0mAGEBS\u001b[0m \u001b[1;33m/\u001b[0m \u001b[0m_\u001b[0m\u001b[1;33m.\u001b[0m\u001b[0mname\u001b[0m\u001b[1;33m)\u001b[0m\u001b[1;33m\u001b[0m\u001b[1;33m\u001b[0m\u001b[0m\n\u001b[0m",
      "\u001b[1;31mAttributeError\u001b[0m: 'str' object has no attribute 'name'"
     ]
    }
   ],
   "source": [
    "_.replace(AGEBS / _.name)"
   ]
  },
  {
   "cell_type": "code",
   "execution_count": 42,
   "metadata": {},
   "outputs": [
    {
     "data": {
      "text/plain": [
       "'01a.CPG'"
      ]
     },
     "execution_count": 42,
     "metadata": {},
     "output_type": "execute_result"
    }
   ],
   "source": [
    "_.name"
   ]
  },
  {
   "cell_type": "code",
   "execution_count": 44,
   "metadata": {},
   "outputs": [],
   "source": [
    "for ageb in ageb_urbanas:\n",
    "    ageb.replace(AGEBS / ageb.name)"
   ]
  },
  {
   "cell_type": "code",
   "execution_count": 45,
   "metadata": {},
   "outputs": [],
   "source": [
    "for ageb in ageb_rurales:\n",
    "    ageb.replace(AGEBS / ageb.name)"
   ]
  },
  {
   "cell_type": "code",
   "execution_count": 46,
   "metadata": {},
   "outputs": [
    {
     "data": {
      "text/html": [
       "<div>\n",
       "<style scoped>\n",
       "    .dataframe tbody tr th:only-of-type {\n",
       "        vertical-align: middle;\n",
       "    }\n",
       "\n",
       "    .dataframe tbody tr th {\n",
       "        vertical-align: top;\n",
       "    }\n",
       "\n",
       "    .dataframe thead th {\n",
       "        text-align: right;\n",
       "    }\n",
       "</style>\n",
       "<table border=\"1\" class=\"dataframe\">\n",
       "  <thead>\n",
       "    <tr style=\"text-align: right;\">\n",
       "      <th></th>\n",
       "      <th>CVEGEO</th>\n",
       "      <th>CVE_ENT</th>\n",
       "      <th>CVE_MUN</th>\n",
       "      <th>CVE_LOC</th>\n",
       "      <th>CVE_AGEB</th>\n",
       "      <th>geometry</th>\n",
       "    </tr>\n",
       "  </thead>\n",
       "  <tbody>\n",
       "    <tr>\n",
       "      <th>0</th>\n",
       "      <td>0300100013913</td>\n",
       "      <td>03</td>\n",
       "      <td>001</td>\n",
       "      <td>0001</td>\n",
       "      <td>3913</td>\n",
       "      <td>POLYGON ((1531973.384999997 1474253.518800003,...</td>\n",
       "    </tr>\n",
       "    <tr>\n",
       "      <th>1</th>\n",
       "      <td>0300100013947</td>\n",
       "      <td>03</td>\n",
       "      <td>001</td>\n",
       "      <td>0001</td>\n",
       "      <td>3947</td>\n",
       "      <td>POLYGON ((1530151.700900004 1473961.715799995,...</td>\n",
       "    </tr>\n",
       "    <tr>\n",
       "      <th>2</th>\n",
       "      <td>0300102803167</td>\n",
       "      <td>03</td>\n",
       "      <td>001</td>\n",
       "      <td>0280</td>\n",
       "      <td>3167</td>\n",
       "      <td>POLYGON ((1484845.976000003 1452416.876399999,...</td>\n",
       "    </tr>\n",
       "    <tr>\n",
       "      <th>3</th>\n",
       "      <td>0300100013294</td>\n",
       "      <td>03</td>\n",
       "      <td>001</td>\n",
       "      <td>0001</td>\n",
       "      <td>3294</td>\n",
       "      <td>POLYGON ((1531599.557999997 1477184.7906, 1531...</td>\n",
       "    </tr>\n",
       "    <tr>\n",
       "      <th>4</th>\n",
       "      <td>0300100013330</td>\n",
       "      <td>03</td>\n",
       "      <td>001</td>\n",
       "      <td>0001</td>\n",
       "      <td>3330</td>\n",
       "      <td>POLYGON ((1529765.863700002 1477269.889799999,...</td>\n",
       "    </tr>\n",
       "  </tbody>\n",
       "</table>\n",
       "</div>"
      ],
      "text/plain": [
       "          CVEGEO CVE_ENT CVE_MUN CVE_LOC CVE_AGEB  \\\n",
       "0  0300100013913      03     001    0001     3913   \n",
       "1  0300100013947      03     001    0001     3947   \n",
       "2  0300102803167      03     001    0280     3167   \n",
       "3  0300100013294      03     001    0001     3294   \n",
       "4  0300100013330      03     001    0001     3330   \n",
       "\n",
       "                                            geometry  \n",
       "0  POLYGON ((1531973.384999997 1474253.518800003,...  \n",
       "1  POLYGON ((1530151.700900004 1473961.715799995,...  \n",
       "2  POLYGON ((1484845.976000003 1452416.876399999,...  \n",
       "3  POLYGON ((1531599.557999997 1477184.7906, 1531...  \n",
       "4  POLYGON ((1529765.863700002 1477269.889799999,...  "
      ]
     },
     "execution_count": 46,
     "metadata": {},
     "output_type": "execute_result"
    }
   ],
   "source": [
    "data = gpd.read_file(AGEBS / '03a.shp')\n",
    "\n",
    "data.head()"
   ]
  },
  {
   "cell_type": "code",
   "execution_count": null,
   "metadata": {},
   "outputs": [],
   "source": []
  }
 ],
 "metadata": {
  "kernelspec": {
   "display_name": "Python 3",
   "language": "python",
   "name": "python3"
  },
  "language_info": {
   "codemirror_mode": {
    "name": "ipython",
    "version": 3
   },
   "file_extension": ".py",
   "mimetype": "text/x-python",
   "name": "python",
   "nbconvert_exporter": "python",
   "pygments_lexer": "ipython3",
   "version": "3.7.3"
  }
 },
 "nbformat": 4,
 "nbformat_minor": 4
}
