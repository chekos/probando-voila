{
 "cells": [
  {
   "cell_type": "markdown",
   "metadata": {},
   "source": [
    "# Preparando los datos de pobreza\n",
    "\n",
    "Le meta de este notebook es leer los datos de pobreza de la hoja oficial de Excel y crear un .csv con todos los estados en un solo archivo."
   ]
  },
  {
   "cell_type": "code",
   "execution_count": 3,
   "metadata": {},
   "outputs": [
    {
     "data": {
      "text/plain": [
       "'24-Jun-19'"
      ]
     },
     "execution_count": 3,
     "metadata": {},
     "output_type": "execute_result"
    }
   ],
   "source": [
    "import pandas as pd\n",
    "import geopandas as gpd\n",
    "from zipfile import ZipFile\n",
    "from pathlib import Path\n",
    "from datetime import datetime as dt\n",
    "%matplotlib inline\n",
    "\n",
    "hoy = dt.today().strftime(\"%d-%b-%y\")\n",
    "\n",
    "hoy"
   ]
  },
  {
   "cell_type": "code",
   "execution_count": 8,
   "metadata": {},
   "outputs": [],
   "source": [
    "DATOS_BRUTOS = Path(\"../../datos/brutos/\")\n",
    "DATOS_INTERINOS = Path(\"../../datos/interinos/\")\n",
    "DATOS_PROCESADOS = Path(\"../../datos/procesados/\")\n",
    "DATOS_EXTERNOS = Path(\"../../datos/externos/\")"
   ]
  },
  {
   "cell_type": "markdown",
   "metadata": {},
   "source": [
    "## Datos pobreza"
   ]
  },
  {
   "cell_type": "code",
   "execution_count": 9,
   "metadata": {},
   "outputs": [],
   "source": [
    "ZipFile(DATOS_BRUTOS / 'Base de datos de pobreza AGEB segun entidad federativa 2015.zip').extractall(DATOS_INTERINOS / 'datos_pobreza')"
   ]
  },
  {
   "cell_type": "code",
   "execution_count": null,
   "metadata": {},
   "outputs": [],
   "source": []
  },
  {
   "cell_type": "code",
   "execution_count": 11,
   "metadata": {},
   "outputs": [],
   "source": [
    "archivo_excel = pd.ExcelFile(DATOS_INTERINOS / 'datos_pobreza' / 'Base de datos de pobreza AGEB segun entidad federativa 2015.xlsx')"
   ]
  },
  {
   "cell_type": "code",
   "execution_count": 12,
   "metadata": {},
   "outputs": [
    {
     "data": {
      "text/plain": [
       "['Índice',\n",
       " 'Aguascalientes',\n",
       " 'Baja California  ',\n",
       " 'Baja California Sur ',\n",
       " 'Campeche',\n",
       " 'Coahuila',\n",
       " 'Colima',\n",
       " 'Chiapas',\n",
       " 'Chihuahua',\n",
       " 'Ciudad de México',\n",
       " 'Durango',\n",
       " 'Guanajuato',\n",
       " 'Guerrero',\n",
       " 'Hidalgo',\n",
       " 'Jalisco',\n",
       " 'México',\n",
       " 'Michoacán',\n",
       " 'Morelos',\n",
       " 'Nayarit',\n",
       " 'Nuevo León',\n",
       " 'Oaxaca',\n",
       " 'Puebla',\n",
       " 'Querétaro',\n",
       " 'Quintana Roo',\n",
       " 'San Luis Potosí',\n",
       " 'Sinaloa',\n",
       " 'Sonora',\n",
       " 'Tabasco',\n",
       " 'Tamaulipas',\n",
       " 'Tlaxcala',\n",
       " 'Veracruz',\n",
       " 'Yucatán',\n",
       " 'Zacatecas']"
      ]
     },
     "execution_count": 12,
     "metadata": {},
     "output_type": "execute_result"
    }
   ],
   "source": [
    "archivo_excel.sheet_names"
   ]
  },
  {
   "cell_type": "code",
   "execution_count": 13,
   "metadata": {},
   "outputs": [],
   "source": [
    "pestañas_archivos = archivo_excel.sheet_names[1:].copy()"
   ]
  },
  {
   "cell_type": "code",
   "execution_count": 19,
   "metadata": {},
   "outputs": [
    {
     "data": {
      "text/plain": [
       "['Aguascalientes',\n",
       " 'Baja California  ',\n",
       " 'Baja California Sur ',\n",
       " 'Campeche',\n",
       " 'Coahuila',\n",
       " 'Colima',\n",
       " 'Chiapas',\n",
       " 'Chihuahua',\n",
       " 'Ciudad de México',\n",
       " 'Durango',\n",
       " 'Guanajuato',\n",
       " 'Guerrero',\n",
       " 'Hidalgo',\n",
       " 'Jalisco',\n",
       " 'México',\n",
       " 'Michoacán',\n",
       " 'Morelos',\n",
       " 'Nayarit',\n",
       " 'Nuevo León',\n",
       " 'Oaxaca',\n",
       " 'Puebla',\n",
       " 'Querétaro',\n",
       " 'Quintana Roo',\n",
       " 'San Luis Potosí',\n",
       " 'Sinaloa',\n",
       " 'Sonora',\n",
       " 'Tabasco',\n",
       " 'Tamaulipas',\n",
       " 'Tlaxcala',\n",
       " 'Veracruz',\n",
       " 'Yucatán',\n",
       " 'Zacatecas']"
      ]
     },
     "execution_count": 19,
     "metadata": {},
     "output_type": "execute_result"
    }
   ],
   "source": [
    "pestañas_archivos"
   ]
  },
  {
   "cell_type": "markdown",
   "metadata": {},
   "source": [
    "Nota: Cada pestaña tiene la tabla de un estado. Los encabezados estan en la línea 5 pero los datos no comienzan hasta la línea 8."
   ]
  },
  {
   "cell_type": "code",
   "execution_count": 20,
   "metadata": {},
   "outputs": [],
   "source": [
    "estados = pd.concat((archivo_excel.parse(estado, header = 4, usecols = ['Clave de \\nAGEB', 'Entidad \\nfederativa', 'Municipio', 'Rango de pobreza (%)', 'Rango de pobreza extrema (%)']) for estado in pestañas_archivos), ignore_index = True)"
   ]
  },
  {
   "cell_type": "code",
   "execution_count": 21,
   "metadata": {},
   "outputs": [
    {
     "data": {
      "text/html": [
       "<div>\n",
       "<style scoped>\n",
       "    .dataframe tbody tr th:only-of-type {\n",
       "        vertical-align: middle;\n",
       "    }\n",
       "\n",
       "    .dataframe tbody tr th {\n",
       "        vertical-align: top;\n",
       "    }\n",
       "\n",
       "    .dataframe thead th {\n",
       "        text-align: right;\n",
       "    }\n",
       "</style>\n",
       "<table border=\"1\" class=\"dataframe\">\n",
       "  <thead>\n",
       "    <tr style=\"text-align: right;\">\n",
       "      <th></th>\n",
       "      <th>Entidad \n",
       "federativa</th>\n",
       "      <th>Municipio</th>\n",
       "      <th>Clave de \n",
       "AGEB</th>\n",
       "      <th>Rango de pobreza (%)</th>\n",
       "      <th>Rango de pobreza extrema (%)</th>\n",
       "    </tr>\n",
       "  </thead>\n",
       "  <tbody>\n",
       "    <tr>\n",
       "      <th>0</th>\n",
       "      <td>NaN</td>\n",
       "      <td>NaN</td>\n",
       "      <td>NaN</td>\n",
       "      <td>NaN</td>\n",
       "      <td>NaN</td>\n",
       "    </tr>\n",
       "    <tr>\n",
       "      <th>1</th>\n",
       "      <td>NaN</td>\n",
       "      <td>NaN</td>\n",
       "      <td>NaN</td>\n",
       "      <td>NaN</td>\n",
       "      <td>NaN</td>\n",
       "    </tr>\n",
       "    <tr>\n",
       "      <th>2</th>\n",
       "      <td>Aguascalientes</td>\n",
       "      <td>Aguascalientes</td>\n",
       "      <td>0100100010229</td>\n",
       "      <td>[ 0, 18]</td>\n",
       "      <td>[ 0, 20]</td>\n",
       "    </tr>\n",
       "    <tr>\n",
       "      <th>3</th>\n",
       "      <td>Aguascalientes</td>\n",
       "      <td>Aguascalientes</td>\n",
       "      <td>0100100010233</td>\n",
       "      <td>(34, 50]</td>\n",
       "      <td>[ 0, 20]</td>\n",
       "    </tr>\n",
       "    <tr>\n",
       "      <th>4</th>\n",
       "      <td>Aguascalientes</td>\n",
       "      <td>Aguascalientes</td>\n",
       "      <td>0100100010286</td>\n",
       "      <td>[ 0, 18]</td>\n",
       "      <td>[ 0, 20]</td>\n",
       "    </tr>\n",
       "  </tbody>\n",
       "</table>\n",
       "</div>"
      ],
      "text/plain": [
       "  Entidad \\nfederativa       Municipio Clave de \\nAGEB Rango de pobreza (%)  \\\n",
       "0                  NaN             NaN             NaN                  NaN   \n",
       "1                  NaN             NaN             NaN                  NaN   \n",
       "2       Aguascalientes  Aguascalientes   0100100010229             [ 0, 18]   \n",
       "3       Aguascalientes  Aguascalientes   0100100010233             (34, 50]   \n",
       "4       Aguascalientes  Aguascalientes   0100100010286             [ 0, 18]   \n",
       "\n",
       "  Rango de pobreza extrema (%)  \n",
       "0                          NaN  \n",
       "1                          NaN  \n",
       "2                     [ 0, 20]  \n",
       "3                     [ 0, 20]  \n",
       "4                     [ 0, 20]  "
      ]
     },
     "execution_count": 21,
     "metadata": {},
     "output_type": "execute_result"
    }
   ],
   "source": [
    "estados.head()"
   ]
  },
  {
   "cell_type": "code",
   "execution_count": 22,
   "metadata": {},
   "outputs": [
    {
     "data": {
      "text/html": [
       "<div>\n",
       "<style scoped>\n",
       "    .dataframe tbody tr th:only-of-type {\n",
       "        vertical-align: middle;\n",
       "    }\n",
       "\n",
       "    .dataframe tbody tr th {\n",
       "        vertical-align: top;\n",
       "    }\n",
       "\n",
       "    .dataframe thead th {\n",
       "        text-align: right;\n",
       "    }\n",
       "</style>\n",
       "<table border=\"1\" class=\"dataframe\">\n",
       "  <thead>\n",
       "    <tr style=\"text-align: right;\">\n",
       "      <th></th>\n",
       "      <th>Entidad Federativa</th>\n",
       "      <th>Municipio</th>\n",
       "      <th>CVEGEO</th>\n",
       "      <th>Rango de pobreza (%)</th>\n",
       "      <th>Rango de pobreza extrema (%)</th>\n",
       "    </tr>\n",
       "  </thead>\n",
       "  <tbody>\n",
       "    <tr>\n",
       "      <th>2</th>\n",
       "      <td>Aguascalientes</td>\n",
       "      <td>Aguascalientes</td>\n",
       "      <td>0100100010229</td>\n",
       "      <td>[ 0, 18]</td>\n",
       "      <td>[ 0, 20]</td>\n",
       "    </tr>\n",
       "    <tr>\n",
       "      <th>3</th>\n",
       "      <td>Aguascalientes</td>\n",
       "      <td>Aguascalientes</td>\n",
       "      <td>0100100010233</td>\n",
       "      <td>(34, 50]</td>\n",
       "      <td>[ 0, 20]</td>\n",
       "    </tr>\n",
       "    <tr>\n",
       "      <th>4</th>\n",
       "      <td>Aguascalientes</td>\n",
       "      <td>Aguascalientes</td>\n",
       "      <td>0100100010286</td>\n",
       "      <td>[ 0, 18]</td>\n",
       "      <td>[ 0, 20]</td>\n",
       "    </tr>\n",
       "    <tr>\n",
       "      <th>5</th>\n",
       "      <td>Aguascalientes</td>\n",
       "      <td>Aguascalientes</td>\n",
       "      <td>0100100010290</td>\n",
       "      <td>[ 0, 18]</td>\n",
       "      <td>[ 0, 20]</td>\n",
       "    </tr>\n",
       "    <tr>\n",
       "      <th>6</th>\n",
       "      <td>Aguascalientes</td>\n",
       "      <td>Aguascalientes</td>\n",
       "      <td>0100100010303</td>\n",
       "      <td>(18, 34]</td>\n",
       "      <td>[ 0, 20]</td>\n",
       "    </tr>\n",
       "  </tbody>\n",
       "</table>\n",
       "</div>"
      ],
      "text/plain": [
       "  Entidad Federativa       Municipio         CVEGEO Rango de pobreza (%)  \\\n",
       "2     Aguascalientes  Aguascalientes  0100100010229             [ 0, 18]   \n",
       "3     Aguascalientes  Aguascalientes  0100100010233             (34, 50]   \n",
       "4     Aguascalientes  Aguascalientes  0100100010286             [ 0, 18]   \n",
       "5     Aguascalientes  Aguascalientes  0100100010290             [ 0, 18]   \n",
       "6     Aguascalientes  Aguascalientes  0100100010303             (18, 34]   \n",
       "\n",
       "  Rango de pobreza extrema (%)  \n",
       "2                     [ 0, 20]  \n",
       "3                     [ 0, 20]  \n",
       "4                     [ 0, 20]  \n",
       "5                     [ 0, 20]  \n",
       "6                     [ 0, 20]  "
      ]
     },
     "execution_count": 22,
     "metadata": {},
     "output_type": "execute_result"
    }
   ],
   "source": [
    "estados.dropna(axis = 1, how = 'all', inplace = True)\n",
    "estados.dropna(how = 'any', inplace = True)\n",
    "\n",
    "estados.columns = ['Entidad Federativa', 'Municipio', 'CVEGEO',  'Rango de pobreza (%)', 'Rango de pobreza extrema (%)']\n",
    "\n",
    "estados.head()"
   ]
  },
  {
   "cell_type": "code",
   "execution_count": 23,
   "metadata": {},
   "outputs": [],
   "source": [
    "estados.to_csv(DATOS_PROCESADOS / 'agebs.csv', index = False, encoding = 'utf-8')"
   ]
  }
 ],
 "metadata": {
  "kernelspec": {
   "display_name": "Python 3",
   "language": "python",
   "name": "python3"
  },
  "language_info": {
   "codemirror_mode": {
    "name": "ipython",
    "version": 3
   },
   "file_extension": ".py",
   "mimetype": "text/x-python",
   "name": "python",
   "nbconvert_exporter": "python",
   "pygments_lexer": "ipython3",
   "version": "3.7.3"
  }
 },
 "nbformat": 4,
 "nbformat_minor": 4
}
