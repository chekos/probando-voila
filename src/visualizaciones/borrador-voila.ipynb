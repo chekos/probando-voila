{
 "cells": [
  {
   "cell_type": "code",
   "execution_count": 1,
   "metadata": {},
   "outputs": [],
   "source": [
    "from ipywidgets import Dropdown\n",
    "import ipywidgets as widgets\n",
    "from ipywidgets import interact"
   ]
  },
  {
   "cell_type": "code",
   "execution_count": 4,
   "metadata": {},
   "outputs": [
    {
     "data": {
      "text/plain": [
       "RendererRegistry.enable('notebook')"
      ]
     },
     "execution_count": 4,
     "metadata": {},
     "output_type": "execute_result"
    }
   ],
   "source": [
    "import altair as alt\n",
    "import pandas as pd\n",
    "import geopandas as gpd\n",
    "import gpdvega\n",
    "\n",
    "%run theme.py\n",
    "\n",
    "alt.renderers.enable('notebook')"
   ]
  },
  {
   "cell_type": "code",
   "execution_count": 5,
   "metadata": {},
   "outputs": [],
   "source": [
    "data = pd.read_csv(\"../../datos/procesados/agebs.csv\")"
   ]
  },
  {
   "cell_type": "code",
   "execution_count": 6,
   "metadata": {},
   "outputs": [],
   "source": [
    "geodatos = gpd.read_file('../../datos/procesados/AGEBS_limpios/AGEBS_limpio.shp')"
   ]
  },
  {
   "cell_type": "code",
   "execution_count": 7,
   "metadata": {
    "scrolled": true
   },
   "outputs": [],
   "source": [
    "geodatos.set_index(\"CVEGEO\", inplace = True)\n",
    "data.set_index(\"CVEGEO\", inplace = True)"
   ]
  },
  {
   "cell_type": "code",
   "execution_count": 8,
   "metadata": {},
   "outputs": [],
   "source": [
    "datos = geodatos.join(data, how = 'right',)"
   ]
  },
  {
   "cell_type": "code",
   "execution_count": 9,
   "metadata": {},
   "outputs": [],
   "source": [
    "def crea_visualizacion(datos):\n",
    "    datos.dropna(inplace = True)\n",
    "    # base\n",
    "    mapa_base = alt.Chart(datos).mark_geoshape(\n",
    "        stroke = '#C7C7C7',\n",
    "        strokeWidth = 0.1,\n",
    "    ).encode().properties(\n",
    "        width = 600,\n",
    "        height = 800,\n",
    "    )\n",
    "\n",
    "    # colores\n",
    "    mapa_resultados = alt.Chart(datos).mark_geoshape(\n",
    "        fill = 'lightgray',\n",
    "        stroke = '#C7C7C7',\n",
    "    ).encode(\n",
    "        color = alt.Color(\n",
    "            'Rango de pobreza (%):N',\n",
    "            legend = alt.Legend(title = \"Rango de pobreza\",)\n",
    "        ),\n",
    "        #tooltip = ['Municipio:N','Enrique Cárdenas Sánchez:Q', 'Alberto Jiménez Merino:Q', 'Miguel Barbosa Huerta:Q', 'Votos nulos:Q', 'No registrados:Q', 'Lista nominal:Q', '% de abstencionismo']\n",
    "    )\n",
    "    return mapa_base + mapa_resultados"
   ]
  },
  {
   "cell_type": "code",
   "execution_count": 10,
   "metadata": {},
   "outputs": [],
   "source": [
    "def filtra_datos(estado, municipio):\n",
    "    df = datos.copy()\n",
    "    mask_estado = df['Entidad Federativa'] == estado\n",
    "    mask_municipio = df['Municipio'] == municipio\n",
    "    \n",
    "    working_df = df[mask_estado & mask_municipio].copy()\n",
    "    \n",
    "    viz = crea_visualizacion(working_df)\n",
    "    \n",
    "    return viz "
   ]
  },
  {
   "cell_type": "code",
   "execution_count": 11,
   "metadata": {},
   "outputs": [],
   "source": [
    "estado_widget = Dropdown(options=list(data['Entidad Federativa'].unique()), description = 'Estado')\n",
    "municipio_widget = Dropdown(options = list(data[data['Entidad Federativa']== estado_widget.value]['Municipio'].unique()), description = 'Muncipio')"
   ]
  },
  {
   "cell_type": "code",
   "execution_count": 12,
   "metadata": {},
   "outputs": [],
   "source": [
    "def on_state_changed(change):\n",
    "    municipio_widget.options = list(data[data['Entidad Federativa'] == estado_widget.value]['Municipio'].unique())"
   ]
  },
  {
   "cell_type": "code",
   "execution_count": 13,
   "metadata": {},
   "outputs": [],
   "source": [
    "estado_widget.observe(on_state_changed, names = 'value')"
   ]
  },
  {
   "cell_type": "code",
   "execution_count": 14,
   "metadata": {},
   "outputs": [
    {
     "data": {
      "application/vnd.jupyter.widget-view+json": {
       "model_id": "fa32d440efd741b193d6f092f5b86125",
       "version_major": 2,
       "version_minor": 0
      },
      "text/plain": [
       "interactive(children=(Dropdown(description='Estado', options=('Aguascalientes', 'Baja California', 'Baja Calif…"
      ]
     },
     "metadata": {},
     "output_type": "display_data"
    }
   ],
   "source": [
    "interact(filtra_datos, estado=estado_widget, municipio = municipio_widget);"
   ]
  }
 ],
 "metadata": {
  "kernelspec": {
   "display_name": "Python 3",
   "language": "python",
   "name": "python3"
  },
  "language_info": {
   "codemirror_mode": {
    "name": "ipython",
    "version": 3
   },
   "file_extension": ".py",
   "mimetype": "text/x-python",
   "name": "python",
   "nbconvert_exporter": "python",
   "pygments_lexer": "ipython3",
   "version": "3.7.3"
  }
 },
 "nbformat": 4,
 "nbformat_minor": 2
}
