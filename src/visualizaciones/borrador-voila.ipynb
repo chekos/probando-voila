{
 "cells": [
  {
   "cell_type": "code",
   "execution_count": 1,
   "metadata": {},
   "outputs": [],
   "source": [
    "from ipywidgets import Dropdown, interact\n",
    "import ipywidgets as widgets\n",
    "import altair as alt\n",
    "import pandas as pd\n",
    "import geopandas as gpd\n",
    "import gpdvega\n",
    "from pathlib import Path\n",
    "from IPython.display import clear_output\n",
    "%run theme.py\n",
    "\n",
    "alt.renderers.enable('kaggle')\n",
    "clear_output()"
   ]
  },
  {
   "cell_type": "code",
   "execution_count": 2,
   "metadata": {},
   "outputs": [],
   "source": [
    "DATOS_PROCESADOS = Path(\"../../datos/procesados/\")"
   ]
  },
  {
   "cell_type": "code",
   "execution_count": 3,
   "metadata": {},
   "outputs": [],
   "source": [
    "data = pd.read_csv(DATOS_PROCESADOS / \"agebs.csv\")"
   ]
  },
  {
   "cell_type": "code",
   "execution_count": 4,
   "metadata": {},
   "outputs": [],
   "source": [
    "shapes = DATOS_PROCESADOS.glob(\"*.shp\")"
   ]
  },
  {
   "cell_type": "code",
   "execution_count": 5,
   "metadata": {},
   "outputs": [],
   "source": [
    "geodatos = pd.concat((gpd.read_file(file) for file in shapes), ignore_index = True)"
   ]
  },
  {
   "cell_type": "code",
   "execution_count": 6,
   "metadata": {
    "scrolled": true
   },
   "outputs": [],
   "source": [
    "geodatos.set_index(\"CVEGEO\", inplace = True)\n",
    "data.set_index(\"CVEGEO\", inplace = True)"
   ]
  },
  {
   "cell_type": "code",
   "execution_count": 7,
   "metadata": {},
   "outputs": [],
   "source": [
    "datos = geodatos.join(data, how = 'right',)"
   ]
  },
  {
   "cell_type": "code",
   "execution_count": 8,
   "metadata": {},
   "outputs": [],
   "source": [
    "_orden = ['(70, 100]', '(50, 70]', '(34, 50]', '(18, 34]', '[ 0, 18]', 'Una vivienda particular habitada', 'Sin viviendas particulares habitadas', 'No disponible']\n",
    "_colores = [\"#dc0d12\",\"#e9686b\",\"#fbe1e1\",\"#dff4f9\",\"#81d1e6\",\"#dc0d7a\",\"#e46800\",\"#a20c4b\"]\n",
    "\n",
    "_escala = alt.Scale(domain = _orden, range = _colores)"
   ]
  },
  {
   "cell_type": "code",
   "execution_count": 9,
   "metadata": {},
   "outputs": [],
   "source": [
    "def crea_visualizacion(datos):\n",
    "    datos.dropna(inplace = True)\n",
    "    _estado = datos['Entidad Federativa'].unique()[0]\n",
    "    \n",
    "    if len(datos['Municipio']) > 1:\n",
    "        _municipio = \"Estado\"\n",
    "    else:\n",
    "        _municipio = datos['Municipio'].unique()[0]\n",
    "        \n",
    "    if _municipio == \"Estado\":\n",
    "        _titulo = f\"{_estado}\"\n",
    "    else:\n",
    "        _titulo = f\"{_estado} - {_municipio}\"\n",
    "    # base\n",
    "    mapa_base = alt.Chart(datos).mark_geoshape(\n",
    "        stroke = '#C7C7C7',\n",
    "        strokeWidth = 0.1,\n",
    "    ).encode().properties(\n",
    "        width = 600,\n",
    "        height = 600,\n",
    "        title = _titulo\n",
    "    )\n",
    "\n",
    "    # colores\n",
    "    mapa_resultados = alt.Chart(datos).mark_geoshape(\n",
    "        fill = 'lightgray',\n",
    "        stroke = '#C7C7C7',\n",
    "    ).encode(\n",
    "        color = alt.Color(\n",
    "            \"Rango de pobreza (%):N\", \n",
    "            sort = _orden, \n",
    "            legend = alt.Legend(\n",
    "                title = \"Rango de pobreza (%) por AGEB\", \n",
    "                values = _orden,\n",
    "                orient = 'none',\n",
    "                legendX = 620,\n",
    "                legendY = 200,\n",
    "            ),\n",
    "            scale = _escala,\n",
    "        ),\n",
    "        tooltip = ['Rango de pobreza (%):N', 'Rango de pobreza extrema (%):N']\n",
    "    )\n",
    "    return mapa_base + mapa_resultados"
   ]
  },
  {
   "cell_type": "code",
   "execution_count": 10,
   "metadata": {},
   "outputs": [],
   "source": [
    "def filtra_datos(estado, municipio):\n",
    "    df = datos.copy()\n",
    "    mask_estado = df['Entidad Federativa'] == estado\n",
    "    \n",
    "    # agrega - para todos\n",
    "    if municipio == \"---\":\n",
    "        working_df = df[mask_estado].copy()\n",
    "    else:\n",
    "        mask_municipio = df['Municipio'] == municipio\n",
    "        working_df = df[mask_estado & mask_municipio].copy()\n",
    "    \n",
    "    viz = crea_visualizacion(working_df)\n",
    "    \n",
    "    return viz"
   ]
  },
  {
   "cell_type": "code",
   "execution_count": 11,
   "metadata": {},
   "outputs": [],
   "source": [
    "estado_widget = Dropdown(options = list(data['Entidad Federativa'].unique()), description = 'Estado')\n",
    "\n",
    "municipio_widget = Dropdown(options = [\"---\"] + list(data[data['Entidad Federativa']== estado_widget.value]['Municipio'].unique()), description = 'Muncipio')"
   ]
  },
  {
   "cell_type": "code",
   "execution_count": 12,
   "metadata": {},
   "outputs": [],
   "source": [
    "def on_state_changed(change):\n",
    "    municipio_widget.options = [\"---\"] + list(data[data['Entidad Federativa'] == estado_widget.value]['Municipio'].unique())"
   ]
  },
  {
   "cell_type": "code",
   "execution_count": 13,
   "metadata": {},
   "outputs": [],
   "source": [
    "estado_widget.observe(on_state_changed, names = 'value')"
   ]
  },
  {
   "cell_type": "markdown",
   "metadata": {},
   "source": [
    "# Pobreza Urbana en México\n",
    "\n",
    "Inspirado por los mapas de [@moaimx](https://twitter.com/moaimx) ([aquí el hilo de twitter](https://twitter.com/moaimx/status/1141534141487468549)) y la más reciente adición al ecosistema Jupyter: [Voilà](https://github.com/QuantStack/voila) por [@QuantStack](https://twitter.com/QuantStack) decidí intentar hacer algo juntando ambos."
   ]
  },
  {
   "cell_type": "markdown",
   "metadata": {},
   "source": [
    "Gracias especiales a [@Coneval](https://twitter.com/Coneval) por los datos."
   ]
  },
  {
   "cell_type": "markdown",
   "metadata": {},
   "source": [
    "_aclaración_: Esta aplicación web no esta agregando ningún análisis a los datos y en ciertos municipios puede que no se vea tanto detalle por la naturaleza de su geografía (miren Ensenada en Baja California, por ejemplo)."
   ]
  },
  {
   "cell_type": "markdown",
   "metadata": {},
   "source": [
    "_aclaración 2_: No se como quitar todo ese texto extra asi que fingamos que no esta ahí jaja"
   ]
  },
  {
   "cell_type": "code",
   "execution_count": 14,
   "metadata": {},
   "outputs": [
    {
     "data": {
      "application/vnd.jupyter.widget-view+json": {
       "model_id": "9d3f44d3c49941aea6ef3dc6a90e5343",
       "version_major": 2,
       "version_minor": 0
      },
      "text/plain": [
       "interactive(children=(Dropdown(description='Estado', options=('Aguascalientes', 'Baja California', 'Baja Calif…"
      ]
     },
     "metadata": {},
     "output_type": "display_data"
    }
   ],
   "source": [
    "interact(filtra_datos, estado=estado_widget, municipio = municipio_widget);"
   ]
  }
 ],
 "metadata": {
  "kernelspec": {
   "display_name": "Python 3",
   "language": "python",
   "name": "python3"
  },
  "language_info": {
   "codemirror_mode": {
    "name": "ipython",
    "version": 3
   },
   "file_extension": ".py",
   "mimetype": "text/x-python",
   "name": "python",
   "nbconvert_exporter": "python",
   "pygments_lexer": "ipython3",
   "version": "3.7.3"
  }
 },
 "nbformat": 4,
 "nbformat_minor": 2
}
