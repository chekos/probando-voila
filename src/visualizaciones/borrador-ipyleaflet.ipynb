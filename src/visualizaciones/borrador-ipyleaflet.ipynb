{
 "cells": [
  {
   "cell_type": "code",
   "execution_count": 61,
   "metadata": {},
   "outputs": [],
   "source": [
    "from ipyleaflet import Map, GeoData, basemaps, LayersControl\n",
    "from ipywidgets import Dropdown, interactive\n",
    "import geopandas as gpd\n",
    "import pandas as pd\n",
    "import json\n",
    "from pathlib import Path\n",
    "from IPython.display import display"
   ]
  },
  {
   "cell_type": "code",
   "execution_count": 2,
   "metadata": {},
   "outputs": [],
   "source": [
    "DATOS_PROCESADOS = Path(\"../../datos/procesados/\")"
   ]
  },
  {
   "cell_type": "code",
   "execution_count": 3,
   "metadata": {},
   "outputs": [],
   "source": [
    "data = pd.read_csv(DATOS_PROCESADOS / \"agebs.csv\")"
   ]
  },
  {
   "cell_type": "code",
   "execution_count": 4,
   "metadata": {},
   "outputs": [],
   "source": [
    "shapes = DATOS_PROCESADOS.glob(\"*.shp\")"
   ]
  },
  {
   "cell_type": "code",
   "execution_count": 5,
   "metadata": {},
   "outputs": [],
   "source": [
    "geodatos = pd.concat((gpd.read_file(file) for file in shapes), ignore_index = True)"
   ]
  },
  {
   "cell_type": "code",
   "execution_count": 6,
   "metadata": {
    "scrolled": true
   },
   "outputs": [],
   "source": [
    "geodatos.set_index(\"CVEGEO\", inplace = True)\n",
    "data.set_index(\"CVEGEO\", inplace = True)"
   ]
  },
  {
   "cell_type": "code",
   "execution_count": 7,
   "metadata": {},
   "outputs": [],
   "source": [
    "datos = geodatos.join(data, how = 'right',)\n",
    "datos.dropna(inplace = True)"
   ]
  },
  {
   "cell_type": "code",
   "execution_count": 166,
   "metadata": {},
   "outputs": [],
   "source": [
    "datos = datos.to_crs(epsg = 4326)"
   ]
  },
  {
   "cell_type": "code",
   "execution_count": 267,
   "metadata": {},
   "outputs": [],
   "source": [
    "def geo_center(df):\n",
    "    _bounds = df.bounds\n",
    "    xmin, xmax, ymin, ymax = _bounds.minx.min(), _bounds.maxx.max(), _bounds.miny.min(), _bounds.maxy.max()\n",
    "    y_center = (ymax + ymin) / 2\n",
    "    x_center = (xmax + xmin) / 2\n",
    "    center = (y_center, x_center)\n",
    "    \n",
    "    return center"
   ]
  },
  {
   "cell_type": "code",
   "execution_count": 268,
   "metadata": {},
   "outputs": [],
   "source": [
    "_orden = ['(70, 100]', '(50, 70]', '(34, 50]', '(18, 34]', '[ 0, 18]', 'Una vivienda particular habitada', 'Sin viviendas particulares habitadas', 'No disponible']\n",
    "_colores = [\"#dc0d12\",\"#e9686b\",\"#fbe1e1\",\"#dff4f9\",\"#81d1e6\",\"#dc0d7a\",\"#e46800\",\"#a20c4b\"]"
   ]
  },
  {
   "cell_type": "code",
   "execution_count": 269,
   "metadata": {},
   "outputs": [],
   "source": [
    "_escala = dict(zip(_orden, _colores))"
   ]
  },
  {
   "cell_type": "code",
   "execution_count": 270,
   "metadata": {},
   "outputs": [],
   "source": [
    "def filtra_datos(estado, municipio):\n",
    "    df = datos.copy()\n",
    "    mask_estado = df['Entidad Federativa'] == estado\n",
    "    \n",
    "    # agrega - para todos\n",
    "    if municipio == \"---\":\n",
    "        working_df = df[mask_estado].copy()\n",
    "    else:\n",
    "        mask_municipio = df['Municipio'] == municipio\n",
    "        working_df = df[mask_estado & mask_municipio].copy()\n",
    "    \n",
    "    viz = crea_visualizacion(working_df)\n",
    "    viz\n",
    "    return display(viz)"
   ]
  },
  {
   "cell_type": "code",
   "execution_count": 271,
   "metadata": {},
   "outputs": [],
   "source": [
    "def crea_visualizacion(datos):\n",
    "    _centro = geo_center(datos)\n",
    "    \n",
    "    m = Map(center = _centro, zoom = 10, basemap = basemaps.OpenStreetMap.BlackAndWhite, scroll_wheel_zoom = True)\n",
    "    \n",
    "    for option in datos['Rango de pobreza (%)'].unique():\n",
    "        \n",
    "        option_data = datos[datos['Rango de pobreza (%)'] == option]\n",
    "        \n",
    "        geo_data = GeoData(\n",
    "            geo_dataframe = option_data,\n",
    "            style={'color': _escala[option], 'fillColor': _escala[option], 'opacity':0.35, 'weight':1.9, 'dashArray':'2', 'fillOpacity':0.7},  \n",
    "            hover_style={'fillColor': _escala[option] , 'fillOpacity': 0.9},\n",
    "            name = f'{option}'\n",
    "        )\n",
    "        \n",
    "        # add layers\n",
    "        m.add_layer(geo_data)\n",
    "    \n",
    "    m.add_control(LayersControl())\n",
    "        \n",
    "    return m"
   ]
  },
  {
   "cell_type": "code",
   "execution_count": 272,
   "metadata": {},
   "outputs": [],
   "source": [
    "estado_widget = Dropdown(options = list(data['Entidad Federativa'].unique()), description = 'Estado')\n",
    "municipio_widget = Dropdown(options = [\"---\"] + list(data[data['Entidad Federativa']== estado_widget.value]['Municipio'].unique()), description = 'Muncipio')"
   ]
  },
  {
   "cell_type": "code",
   "execution_count": 273,
   "metadata": {},
   "outputs": [],
   "source": [
    "def on_state_changed(change):\n",
    "    municipio_widget.options = [\"---\"] + list(data[data['Entidad Federativa'] == estado_widget.value]['Municipio'].unique())"
   ]
  },
  {
   "cell_type": "code",
   "execution_count": 274,
   "metadata": {},
   "outputs": [],
   "source": [
    "estado_widget.observe(on_state_changed, names = 'value')"
   ]
  },
  {
   "cell_type": "markdown",
   "metadata": {},
   "source": [
    "# Pobreza Urbana en México\n",
    "\n",
    "Inspirado por los mapas de [@moaimx](https://twitter.com/moaimx) ([aquí el hilo de twitter](https://twitter.com/moaimx/status/1141534141487468549)) y la más reciente adición al ecosistema Jupyter: [Voilà](https://github.com/QuantStack/voila) por [@QuantStack](https://twitter.com/QuantStack) decidí intentar hacer algo juntando ambos."
   ]
  },
  {
   "cell_type": "markdown",
   "metadata": {},
   "source": [
    "Gracias especiales a [@Coneval](https://twitter.com/Coneval) por los datos."
   ]
  },
  {
   "cell_type": "markdown",
   "metadata": {},
   "source": [
    "_aclaración_: Esta aplicación web no esta agregando ningún análisis a los datos y en ciertos municipios puede que no se vea tanto detalle por la naturaleza de su geografía (miren Ensenada en Baja California, por ejemplo)."
   ]
  },
  {
   "cell_type": "markdown",
   "metadata": {},
   "source": [
    "_aclaración 2_: Se tarda un poco en cargar el mapa así que tengan paciencia porfa"
   ]
  },
  {
   "cell_type": "code",
   "execution_count": 275,
   "metadata": {
    "grid_columns": 12,
    "grid_rows": 12,
    "scrolled": false
   },
   "outputs": [
    {
     "data": {
      "application/vnd.jupyter.widget-view+json": {
       "model_id": "12165653a12f46319376630bfff77c91",
       "version_major": 2,
       "version_minor": 0
      },
      "text/plain": [
       "interactive(children=(Dropdown(description='Estado', options=('Aguascalientes', 'Baja California', 'Baja Calif…"
      ]
     },
     "metadata": {},
     "output_type": "display_data"
    }
   ],
   "source": [
    "interactive(filtra_datos, estado = estado_widget, municipio = municipio_widget)"
   ]
  }
 ],
 "metadata": {
  "kernelspec": {
   "display_name": "Python 3",
   "language": "python",
   "name": "python3"
  },
  "language_info": {
   "codemirror_mode": {
    "name": "ipython",
    "version": 3
   },
   "file_extension": ".py",
   "mimetype": "text/x-python",
   "name": "python",
   "nbconvert_exporter": "python",
   "pygments_lexer": "ipython3",
   "version": "3.7.3"
  }
 },
 "nbformat": 4,
 "nbformat_minor": 2
}
