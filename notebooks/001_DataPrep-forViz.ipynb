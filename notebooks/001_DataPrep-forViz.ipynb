{
 "cells": [
  {
   "cell_type": "markdown",
   "metadata": {},
   "source": [
    "# probando voila\n",
    "#### Este repositorio tiene los materiales para visualizar unos mapas y crear una aplicacion web con voila y mybinder.\n",
    "\n",
    "<details>\n",
    "    <summary><strong>Meta</strong></summary>\n",
    "    \"La meta de este notebook es recrear la figura X del reporte XYZ ...\"\n",
    "    <ul>\n",
    "        <li> Metas mensurables </li>\n",
    "        <li> Ej 1: Identificar <i>variables de interes en el conjunto de datos <strong>nombre_chido_de_conjunto_de_datos.csv</strong></i> </li>\n",
    "        <li> Ej 2: Crear un <i>dataset trabajable</i> de los datos en bruto.</li>\n",
    "    </ul>\n",
    "</details>\n",
    "\n",
    "<details>\n",
    "    <summary><strong>Contexto</strong></summary>\n",
    "    Contexto en este momento (por ejemplo, \"hemos descargado datos sin procesar de <strong><i>website.com</i> </strong> y ahora estamos en el proceso de crear un masterfile\").\n",
    "    <li> ¿Cuál es el objetivo final de este proyecto? </li>\n",
    "    <li> ¿Qué estamos tratando de recrear? ¿Dónde estamos en el proceso? </li>\n",
    "    <li> Cualquier enlace a documentación / figuras. </li>\n",
    "</details>"
   ]
  },
  {
   "cell_type": "code",
   "execution_count": 1,
   "metadata": {},
   "outputs": [
    {
     "data": {
      "text/plain": [
       "'24-Jun-19'"
      ]
     },
     "execution_count": 1,
     "metadata": {},
     "output_type": "execute_result"
    }
   ],
   "source": [
    "import pandas as pd\n",
    "import geopandas as gpd\n",
    "from zipfile import ZipFile\n",
    "from pathlib import Path\n",
    "from herramientas import arbol\n",
    "from datetime import datetime as dt\n",
    "%matplotlib inline\n",
    "\n",
    "hoy = dt.today().strftime(\"%d-%b-%y\")\n",
    "\n",
    "hoy"
   ]
  },
  {
   "cell_type": "code",
   "execution_count": 2,
   "metadata": {},
   "outputs": [],
   "source": [
    "DATOS_BRUTOS = Path(\"../datos/brutos/\")\n",
    "DATOS_INTERINOS = Path(\"../datos/interinos/\")\n",
    "DATOS_PROCESADOS = Path(\"../datos/procesados/\")\n",
    "DATOS_EXTERNOS = Path(\"../datos/externos/\")"
   ]
  },
  {
   "cell_type": "code",
   "execution_count": 3,
   "metadata": {},
   "outputs": [
    {
     "name": "stdout",
     "output_type": "stream",
     "text": [
      "+ ..\\datos\\brutos\n",
      "    + Base de datos de pobreza AGEB segun entidad federativa 2015.zip\n"
     ]
    }
   ],
   "source": [
    "arbol(DATOS_BRUTOS)"
   ]
  },
  {
   "cell_type": "markdown",
   "metadata": {},
   "source": [
    "## Datos pobreza"
   ]
  },
  {
   "cell_type": "code",
   "execution_count": 4,
   "metadata": {},
   "outputs": [],
   "source": [
    "ZipFile(DATOS_BRUTOS / 'Base de datos de pobreza AGEB segun entidad federativa 2015.zip').extractall(DATOS_INTERINOS / 'datos_pobreza')"
   ]
  },
  {
   "cell_type": "code",
   "execution_count": 5,
   "metadata": {},
   "outputs": [
    {
     "name": "stdout",
     "output_type": "stream",
     "text": [
      "+ ..\\datos\\interinos\\datos_pobreza\n",
      "    + Base de datos de pobreza AGEB segun entidad federativa 2015.xlsx\n"
     ]
    }
   ],
   "source": [
    "arbol(DATOS_INTERINOS / 'datos_pobreza')"
   ]
  },
  {
   "cell_type": "code",
   "execution_count": 6,
   "metadata": {},
   "outputs": [],
   "source": [
    "archivo_excel = pd.ExcelFile(DATOS_INTERINOS / 'datos_pobreza' / 'Base de datos de pobreza AGEB segun entidad federativa 2015.xlsx')"
   ]
  },
  {
   "cell_type": "code",
   "execution_count": 7,
   "metadata": {},
   "outputs": [
    {
     "data": {
      "text/plain": [
       "['Índice',\n",
       " 'Aguascalientes',\n",
       " 'Baja California  ',\n",
       " 'Baja California Sur ',\n",
       " 'Campeche',\n",
       " 'Coahuila',\n",
       " 'Colima',\n",
       " 'Chiapas',\n",
       " 'Chihuahua',\n",
       " 'Ciudad de México',\n",
       " 'Durango',\n",
       " 'Guanajuato',\n",
       " 'Guerrero',\n",
       " 'Hidalgo',\n",
       " 'Jalisco',\n",
       " 'México',\n",
       " 'Michoacán',\n",
       " 'Morelos',\n",
       " 'Nayarit',\n",
       " 'Nuevo León',\n",
       " 'Oaxaca',\n",
       " 'Puebla',\n",
       " 'Querétaro',\n",
       " 'Quintana Roo',\n",
       " 'San Luis Potosí',\n",
       " 'Sinaloa',\n",
       " 'Sonora',\n",
       " 'Tabasco',\n",
       " 'Tamaulipas',\n",
       " 'Tlaxcala',\n",
       " 'Veracruz',\n",
       " 'Yucatán',\n",
       " 'Zacatecas']"
      ]
     },
     "execution_count": 7,
     "metadata": {},
     "output_type": "execute_result"
    }
   ],
   "source": [
    "archivo_excel.sheet_names"
   ]
  },
  {
   "cell_type": "markdown",
   "metadata": {},
   "source": [
    "Nota: Cada pestaña tiene la tabla de un estado. Los encabezados estan en la línea 5 pero los datos no comienzan hasta la línea 8."
   ]
  },
  {
   "cell_type": "code",
   "execution_count": 13,
   "metadata": {},
   "outputs": [
    {
     "data": {
      "text/html": [
       "<div>\n",
       "<style scoped>\n",
       "    .dataframe tbody tr th:only-of-type {\n",
       "        vertical-align: middle;\n",
       "    }\n",
       "\n",
       "    .dataframe tbody tr th {\n",
       "        vertical-align: top;\n",
       "    }\n",
       "\n",
       "    .dataframe thead th {\n",
       "        text-align: right;\n",
       "    }\n",
       "</style>\n",
       "<table border=\"1\" class=\"dataframe\">\n",
       "  <thead>\n",
       "    <tr style=\"text-align: right;\">\n",
       "      <th></th>\n",
       "      <th>Entidad Federativa</th>\n",
       "      <th>CVEGEO</th>\n",
       "      <th>Rango de pobreza (%)</th>\n",
       "      <th>Rango de pobreza extrema (%)</th>\n",
       "    </tr>\n",
       "  </thead>\n",
       "  <tbody>\n",
       "    <tr>\n",
       "      <th>2</th>\n",
       "      <td>Baja California</td>\n",
       "      <td>0200100010435</td>\n",
       "      <td>(34, 50]</td>\n",
       "      <td>[ 0, 20]</td>\n",
       "    </tr>\n",
       "    <tr>\n",
       "      <th>3</th>\n",
       "      <td>Baja California</td>\n",
       "      <td>020010001044A</td>\n",
       "      <td>(18, 34]</td>\n",
       "      <td>[ 0, 20]</td>\n",
       "    </tr>\n",
       "    <tr>\n",
       "      <th>4</th>\n",
       "      <td>Baja California</td>\n",
       "      <td>0200100010454</td>\n",
       "      <td>[ 0, 18]</td>\n",
       "      <td>[ 0, 20]</td>\n",
       "    </tr>\n",
       "    <tr>\n",
       "      <th>5</th>\n",
       "      <td>Baja California</td>\n",
       "      <td>0200100010488</td>\n",
       "      <td>(34, 50]</td>\n",
       "      <td>[ 0, 20]</td>\n",
       "    </tr>\n",
       "    <tr>\n",
       "      <th>6</th>\n",
       "      <td>Baja California</td>\n",
       "      <td>0200100010492</td>\n",
       "      <td>Sin viviendas particulares habitadas</td>\n",
       "      <td>Sin viviendas particulares habitadas</td>\n",
       "    </tr>\n",
       "  </tbody>\n",
       "</table>\n",
       "</div>"
      ],
      "text/plain": [
       "  Entidad Federativa         CVEGEO                  Rango de pobreza (%)  \\\n",
       "2    Baja California  0200100010435                              (34, 50]   \n",
       "3    Baja California  020010001044A                              (18, 34]   \n",
       "4    Baja California  0200100010454                              [ 0, 18]   \n",
       "5    Baja California  0200100010488                              (34, 50]   \n",
       "6    Baja California  0200100010492  Sin viviendas particulares habitadas   \n",
       "\n",
       "           Rango de pobreza extrema (%)  \n",
       "2                              [ 0, 20]  \n",
       "3                              [ 0, 20]  \n",
       "4                              [ 0, 20]  \n",
       "5                              [ 0, 20]  \n",
       "6  Sin viviendas particulares habitadas  "
      ]
     },
     "execution_count": 13,
     "metadata": {},
     "output_type": "execute_result"
    }
   ],
   "source": [
    "estado = archivo_excel.parse('Baja California  ', header = 4, converters = {\"Clave de municipio\": str}, usecols = ['Clave de \\nAGEB', 'Entidad \\nfederativa', 'Rango de pobreza (%)', 'Rango de pobreza extrema (%)'])\n",
    "estado.dropna(axis = 1, how = 'all', inplace = True)\n",
    "estado.dropna(how = 'any', inplace = True)\n",
    "\n",
    "estado.columns = ['Entidad Federativa', 'CVEGEO',  'Rango de pobreza (%)', 'Rango de pobreza extrema (%)']\n",
    "\n",
    "estado.head()"
   ]
  },
  {
   "cell_type": "code",
   "execution_count": 14,
   "metadata": {},
   "outputs": [],
   "source": [
    "estado.reset_index(inplace = True, drop = True)"
   ]
  },
  {
   "cell_type": "code",
   "execution_count": 15,
   "metadata": {},
   "outputs": [
    {
     "name": "stdout",
     "output_type": "stream",
     "text": [
      "<class 'pandas.core.frame.DataFrame'>\n",
      "RangeIndex: 1656 entries, 0 to 1655\n",
      "Data columns (total 4 columns):\n",
      "Entidad Federativa              1656 non-null object\n",
      "CVEGEO                          1656 non-null object\n",
      "Rango de pobreza (%)            1656 non-null object\n",
      "Rango de pobreza extrema (%)    1656 non-null object\n",
      "dtypes: object(4)\n",
      "memory usage: 51.8+ KB\n"
     ]
    }
   ],
   "source": [
    "estado.info()"
   ]
  },
  {
   "cell_type": "code",
   "execution_count": 16,
   "metadata": {},
   "outputs": [
    {
     "data": {
      "text/html": [
       "<div>\n",
       "<style scoped>\n",
       "    .dataframe tbody tr th:only-of-type {\n",
       "        vertical-align: middle;\n",
       "    }\n",
       "\n",
       "    .dataframe tbody tr th {\n",
       "        vertical-align: top;\n",
       "    }\n",
       "\n",
       "    .dataframe thead th {\n",
       "        text-align: right;\n",
       "    }\n",
       "</style>\n",
       "<table border=\"1\" class=\"dataframe\">\n",
       "  <thead>\n",
       "    <tr style=\"text-align: right;\">\n",
       "      <th></th>\n",
       "      <th>Entidad Federativa</th>\n",
       "      <th>CVEGEO</th>\n",
       "      <th>Rango de pobreza (%)</th>\n",
       "      <th>Rango de pobreza extrema (%)</th>\n",
       "    </tr>\n",
       "  </thead>\n",
       "  <tbody>\n",
       "    <tr>\n",
       "      <th>0</th>\n",
       "      <td>Baja California</td>\n",
       "      <td>0200100010435</td>\n",
       "      <td>(34, 50]</td>\n",
       "      <td>[ 0, 20]</td>\n",
       "    </tr>\n",
       "    <tr>\n",
       "      <th>1</th>\n",
       "      <td>Baja California</td>\n",
       "      <td>020010001044A</td>\n",
       "      <td>(18, 34]</td>\n",
       "      <td>[ 0, 20]</td>\n",
       "    </tr>\n",
       "    <tr>\n",
       "      <th>2</th>\n",
       "      <td>Baja California</td>\n",
       "      <td>0200100010454</td>\n",
       "      <td>[ 0, 18]</td>\n",
       "      <td>[ 0, 20]</td>\n",
       "    </tr>\n",
       "    <tr>\n",
       "      <th>3</th>\n",
       "      <td>Baja California</td>\n",
       "      <td>0200100010488</td>\n",
       "      <td>(34, 50]</td>\n",
       "      <td>[ 0, 20]</td>\n",
       "    </tr>\n",
       "    <tr>\n",
       "      <th>4</th>\n",
       "      <td>Baja California</td>\n",
       "      <td>0200100010492</td>\n",
       "      <td>Sin viviendas particulares habitadas</td>\n",
       "      <td>Sin viviendas particulares habitadas</td>\n",
       "    </tr>\n",
       "  </tbody>\n",
       "</table>\n",
       "</div>"
      ],
      "text/plain": [
       "  Entidad Federativa         CVEGEO                  Rango de pobreza (%)  \\\n",
       "0    Baja California  0200100010435                              (34, 50]   \n",
       "1    Baja California  020010001044A                              (18, 34]   \n",
       "2    Baja California  0200100010454                              [ 0, 18]   \n",
       "3    Baja California  0200100010488                              (34, 50]   \n",
       "4    Baja California  0200100010492  Sin viviendas particulares habitadas   \n",
       "\n",
       "           Rango de pobreza extrema (%)  \n",
       "0                              [ 0, 20]  \n",
       "1                              [ 0, 20]  \n",
       "2                              [ 0, 20]  \n",
       "3                              [ 0, 20]  \n",
       "4  Sin viviendas particulares habitadas  "
      ]
     },
     "execution_count": 16,
     "metadata": {},
     "output_type": "execute_result"
    }
   ],
   "source": [
    "estado.head()"
   ]
  },
  {
   "cell_type": "markdown",
   "metadata": {},
   "source": [
    "# Datos geográficos"
   ]
  },
  {
   "cell_type": "code",
   "execution_count": 17,
   "metadata": {},
   "outputs": [],
   "source": [
    "ZipFile(DATOS_PROCESADOS / 'AGEBS_limpios.zip').extractall(DATOS_PROCESADOS / 'AGEBS_limpios/')\n",
    "geodatos = gpd.read_file(DATOS_PROCESADOS / 'AGEBS_limpios' / 'AGEBS_limpio.shp')"
   ]
  },
  {
   "cell_type": "code",
   "execution_count": 18,
   "metadata": {},
   "outputs": [
    {
     "data": {
      "text/html": [
       "<div>\n",
       "<style scoped>\n",
       "    .dataframe tbody tr th:only-of-type {\n",
       "        vertical-align: middle;\n",
       "    }\n",
       "\n",
       "    .dataframe tbody tr th {\n",
       "        vertical-align: top;\n",
       "    }\n",
       "\n",
       "    .dataframe thead th {\n",
       "        text-align: right;\n",
       "    }\n",
       "</style>\n",
       "<table border=\"1\" class=\"dataframe\">\n",
       "  <thead>\n",
       "    <tr style=\"text-align: right;\">\n",
       "      <th></th>\n",
       "      <th>CVEGEO</th>\n",
       "      <th>geometry</th>\n",
       "    </tr>\n",
       "  </thead>\n",
       "  <tbody>\n",
       "    <tr>\n",
       "      <th>0</th>\n",
       "      <td>010010001216A</td>\n",
       "      <td>POLYGON ((2472175.610600002 1095222.905299997,...</td>\n",
       "    </tr>\n",
       "    <tr>\n",
       "      <th>1</th>\n",
       "      <td>0100100012649</td>\n",
       "      <td>POLYGON ((2474436.9925 1094330.964100001, 2474...</td>\n",
       "    </tr>\n",
       "    <tr>\n",
       "      <th>2</th>\n",
       "      <td>010010001383A</td>\n",
       "      <td>POLYGON ((2472973.671700002 1091954.736200001,...</td>\n",
       "    </tr>\n",
       "    <tr>\n",
       "      <th>3</th>\n",
       "      <td>010010001287A</td>\n",
       "      <td>POLYGON ((2468473.209200002 1093564.705600001,...</td>\n",
       "    </tr>\n",
       "    <tr>\n",
       "      <th>4</th>\n",
       "      <td>010010001084A</td>\n",
       "      <td>POLYGON ((2469318.936499998 1094912.738899997,...</td>\n",
       "    </tr>\n",
       "  </tbody>\n",
       "</table>\n",
       "</div>"
      ],
      "text/plain": [
       "          CVEGEO                                           geometry\n",
       "0  010010001216A  POLYGON ((2472175.610600002 1095222.905299997,...\n",
       "1  0100100012649  POLYGON ((2474436.9925 1094330.964100001, 2474...\n",
       "2  010010001383A  POLYGON ((2472973.671700002 1091954.736200001,...\n",
       "3  010010001287A  POLYGON ((2468473.209200002 1093564.705600001,...\n",
       "4  010010001084A  POLYGON ((2469318.936499998 1094912.738899997,..."
      ]
     },
     "execution_count": 18,
     "metadata": {},
     "output_type": "execute_result"
    }
   ],
   "source": [
    "geodatos.head()"
   ]
  },
  {
   "cell_type": "code",
   "execution_count": 19,
   "metadata": {},
   "outputs": [],
   "source": [
    "geodatos.set_index('CVEGEO', inplace = True)\n",
    "estado.set_index('CVEGEO', inplace = True)"
   ]
  },
  {
   "cell_type": "code",
   "execution_count": 20,
   "metadata": {},
   "outputs": [],
   "source": [
    "datos_plot = geodatos.join(estado, on = 'CVEGEO', how = 'right')"
   ]
  },
  {
   "cell_type": "code",
   "execution_count": 21,
   "metadata": {},
   "outputs": [
    {
     "data": {
      "image/png": "[encoded data removed]",
      "text/plain": [
       "<Figure size 432x288 with 1 Axes>"
      ]
     },
     "metadata": {
      "needs_background": "light"
     },
     "output_type": "display_data"
    }
   ],
   "source": [
    "datos_plot.plot(column = 'Rango de pobreza (%)');"
   ]
  },
  {
   "cell_type": "code",
   "execution_count": 25,
   "metadata": {},
   "outputs": [
    {
     "data": {
      "text/html": [
       "<div>\n",
       "<style scoped>\n",
       "    .dataframe tbody tr th:only-of-type {\n",
       "        vertical-align: middle;\n",
       "    }\n",
       "\n",
       "    .dataframe tbody tr th {\n",
       "        vertical-align: top;\n",
       "    }\n",
       "\n",
       "    .dataframe thead th {\n",
       "        text-align: right;\n",
       "    }\n",
       "</style>\n",
       "<table border=\"1\" class=\"dataframe\">\n",
       "  <thead>\n",
       "    <tr style=\"text-align: right;\">\n",
       "      <th></th>\n",
       "      <th>Entidad Federativa</th>\n",
       "      <th>Municipio</th>\n",
       "      <th>CVEGEO</th>\n",
       "      <th>Rango de pobreza (%)</th>\n",
       "      <th>Rango de pobreza extrema (%)</th>\n",
       "    </tr>\n",
       "  </thead>\n",
       "  <tbody>\n",
       "    <tr>\n",
       "      <th>2</th>\n",
       "      <td>Baja California</td>\n",
       "      <td>Ensenada</td>\n",
       "      <td>0200100010435</td>\n",
       "      <td>(34, 50]</td>\n",
       "      <td>[ 0, 20]</td>\n",
       "    </tr>\n",
       "    <tr>\n",
       "      <th>3</th>\n",
       "      <td>Baja California</td>\n",
       "      <td>Ensenada</td>\n",
       "      <td>020010001044A</td>\n",
       "      <td>(18, 34]</td>\n",
       "      <td>[ 0, 20]</td>\n",
       "    </tr>\n",
       "    <tr>\n",
       "      <th>4</th>\n",
       "      <td>Baja California</td>\n",
       "      <td>Ensenada</td>\n",
       "      <td>0200100010454</td>\n",
       "      <td>[ 0, 18]</td>\n",
       "      <td>[ 0, 20]</td>\n",
       "    </tr>\n",
       "    <tr>\n",
       "      <th>5</th>\n",
       "      <td>Baja California</td>\n",
       "      <td>Ensenada</td>\n",
       "      <td>0200100010488</td>\n",
       "      <td>(34, 50]</td>\n",
       "      <td>[ 0, 20]</td>\n",
       "    </tr>\n",
       "    <tr>\n",
       "      <th>6</th>\n",
       "      <td>Baja California</td>\n",
       "      <td>Ensenada</td>\n",
       "      <td>0200100010492</td>\n",
       "      <td>Sin viviendas particulares habitadas</td>\n",
       "      <td>Sin viviendas particulares habitadas</td>\n",
       "    </tr>\n",
       "  </tbody>\n",
       "</table>\n",
       "</div>"
      ],
      "text/plain": [
       "  Entidad Federativa Municipio         CVEGEO  \\\n",
       "2    Baja California  Ensenada  0200100010435   \n",
       "3    Baja California  Ensenada  020010001044A   \n",
       "4    Baja California  Ensenada  0200100010454   \n",
       "5    Baja California  Ensenada  0200100010488   \n",
       "6    Baja California  Ensenada  0200100010492   \n",
       "\n",
       "                   Rango de pobreza (%)          Rango de pobreza extrema (%)  \n",
       "2                              (34, 50]                              [ 0, 20]  \n",
       "3                              (18, 34]                              [ 0, 20]  \n",
       "4                              [ 0, 18]                              [ 0, 20]  \n",
       "5                              (34, 50]                              [ 0, 20]  \n",
       "6  Sin viviendas particulares habitadas  Sin viviendas particulares habitadas  "
      ]
     },
     "execution_count": 25,
     "metadata": {},
     "output_type": "execute_result"
    }
   ],
   "source": [
    "BC = archivo_excel.parse('Baja California  ', header = 4, converters = {\"Clave de municipio\": str}, usecols = ['Clave de \\nAGEB', 'Municipio', 'Entidad \\nfederativa', 'Rango de pobreza (%)', 'Rango de pobreza extrema (%)'])\n",
    "BC.dropna(axis = 1, how = 'all', inplace = True)\n",
    "BC.dropna(how = 'any', inplace = True)\n",
    "\n",
    "BC.columns = ['Entidad Federativa', 'Municipio', 'CVEGEO',  'Rango de pobreza (%)', 'Rango de pobreza extrema (%)']\n",
    "\n",
    "BC.head()"
   ]
  },
  {
   "cell_type": "code",
   "execution_count": 26,
   "metadata": {},
   "outputs": [],
   "source": [
    "tijuana = BC[BC['Municipio'] == 'Tijuana']"
   ]
  },
  {
   "cell_type": "code",
   "execution_count": 27,
   "metadata": {},
   "outputs": [],
   "source": [
    "tijuana.set_index('CVEGEO', inplace = True)"
   ]
  },
  {
   "cell_type": "code",
   "execution_count": 28,
   "metadata": {},
   "outputs": [],
   "source": [
    "tijuana_plot = geodatos.join(tijuana, how = 'right')"
   ]
  },
  {
   "cell_type": "code",
   "execution_count": 30,
   "metadata": {},
   "outputs": [
    {
     "data": {
      "image/png": "[encoded data removed]",
      "text/plain": [
       "<Figure size 432x288 with 1 Axes>"
      ]
     },
     "metadata": {
      "needs_background": "light"
     },
     "output_type": "display_data"
    }
   ],
   "source": [
    "tijuana_plot.plot(column = 'Rango de pobreza (%)');"
   ]
  },
  {
   "cell_type": "code",
   "execution_count": null,
   "metadata": {},
   "outputs": [],
   "source": []
  }
 ],
 "metadata": {
  "kernelspec": {
   "display_name": "Python 3",
   "language": "python",
   "name": "python3"
  },
  "language_info": {
   "codemirror_mode": {
    "name": "ipython",
    "version": 3
   },
   "file_extension": ".py",
   "mimetype": "text/x-python",
   "name": "python",
   "nbconvert_exporter": "python",
   "pygments_lexer": "ipython3",
   "version": "3.7.3"
  }
 },
 "nbformat": 4,
 "nbformat_minor": 4
}
